{
 "cells": [
  {
   "cell_type": "markdown",
   "metadata": {},
   "source": [
    "#### Alliance_of_Genome_Resources "
   ]
  },
  {
   "cell_type": "code",
   "execution_count": null,
   "metadata": {},
   "outputs": [],
   "source": [
    "# The following commands are used to decompress the compressed files in the dataset.\n",
    "# These commands are designed for execution in a terminal, not directly in Jupyter Notebook.\n",
    "\n",
    "# Example terminal commands (uncomment and run in a terminal):\n",
    "# ! sudo gunzip -k data/Network/Alliance_of_Genome_Resources/INTERACTION-MOL_MGI.tsv.gz\n",
    "# ! sudo gunzip -k data/Network/Alliance_of_Genome_Resources/INTERACTION-MOL_HUMAN.tsv.gz"
   ]
  },
  {
   "cell_type": "code",
   "execution_count": null,
   "metadata": {},
   "outputs": [],
   "source": [
    "! head -n 20 ../../data/raw/network/Alliance_of_Genome_Resources/INTERACTION-MOL_MGI.tsv\n",
    "! wc -l ../../data/raw/network/Alliance_of_Genome_Resources/INTERACTION-MOL_MGI.tsv\n",
    "! head -n 20 ../../data/raw/network/Alliance_of_Genome_Resources/INTERACTION-MOL_HUMAN.tsv\n",
    "! wc -l ../../data/raw/network/Alliance_of_Genome_Resources/INTERACTION-MOL_HUMAN.tsv"
   ]
  },
  {
   "cell_type": "code",
   "execution_count": null,
   "metadata": {},
   "outputs": [],
   "source": [
    "# Molecular Interaction.\n",
    "# Mouse \n",
    "import pandas as pd\n",
    "\n",
    "file_path = '../../data/raw/network/Alliance_of_Genome_Resources/INTERACTION-MOL_MGI.tsv'\n",
    "\n",
    "# Read the first few lines of the file to locate the line containing column names\n",
    "with open(file_path, 'r') as file:\n",
    "    for i, line in enumerate(file):\n",
    "        if line.startswith('#ID'):\n",
    "            header_line = i\n",
    "            break\n",
    "\n",
    "# Re-read the data starting from the line with the column names\n",
    "data = pd.read_csv(file_path, sep='\\t', header=header_line)\n",
    "\n",
    "# Display the first two rows and the first five columns of the data\n",
    "print(data.iloc[:2, :])\n"
   ]
  },
  {
   "cell_type": "code",
   "execution_count": null,
   "metadata": {},
   "outputs": [],
   "source": [
    "# Select the first two columns of the data\n",
    "selected_data = data.iloc[:, [0, 1]].copy()\n",
    "\n",
    "# Extract Entrez gene IDs by splitting the values in the columns at the colon and keeping the part after the colon\n",
    "selected_data.loc[:, '#ID(s) interactor A'] = selected_data['#ID(s) interactor A'].apply(lambda x: x.split(':')[1])\n",
    "selected_data.loc[:, 'ID(s) interactor B'] = selected_data['ID(s) interactor B'].apply(lambda x: x.split(':')[1])\n",
    "\n",
    "# Display the first few rows of the selected data and its shape (number of rows and columns)\n",
    "print(selected_data.head())\n",
    "print(selected_data.shape)\n"
   ]
  },
  {
   "cell_type": "code",
   "execution_count": null,
   "metadata": {},
   "outputs": [],
   "source": [
    "# Save the selected gene interaction data to a TSV file\n",
    "# The file is saved without including the index or column headers\n",
    "mgi_net_file = '../../data/pre_data/network/AGR_MGI.tsv'\n",
    "selected_data.to_csv(mgi_net_file, sep='\\t', index=False, header=False)"
   ]
  },
  {
   "cell_type": "code",
   "execution_count": null,
   "metadata": {},
   "outputs": [],
   "source": [
    "# Molecular Interaction.\n",
    "# Human\n",
    "\n",
    "import pandas as pd\n",
    "\n",
    "# Define the file path for the data\n",
    "file_path = '../../data/raw/network/Alliance_of_Genome_Resources/INTERACTION-MOL_HUMAN.tsv'\n",
    "\n",
    "# Read the first few lines of the file to locate the row containing the column names\n",
    "with open(file_path, 'r') as file:\n",
    "    for i, line in enumerate(file):\n",
    "        if line.startswith('#ID'):\n",
    "            header_line = i\n",
    "            break\n",
    "\n",
    "# Re-read the data starting from the line containing the column names\n",
    "data = pd.read_csv(file_path, sep='\\t', header=header_line)\n",
    "\n",
    "# Display the first two rows and the first five columns of the data\n",
    "print(data.iloc[:2, :])\n"
   ]
  },
  {
   "cell_type": "code",
   "execution_count": null,
   "metadata": {},
   "outputs": [],
   "source": [
    "# Select the first two columns of the data\n",
    "selected_data = data.iloc[:, [0, 1]].copy()\n",
    "\n",
    "# Extract Entrez gene ID by splitting the string at the colon and keeping the part after the colon\n",
    "selected_data.loc[:, '#ID(s) interactor A'] = selected_data['#ID(s) interactor A'].apply(lambda x: x.split(':')[1])\n",
    "selected_data.loc[:, 'ID(s) interactor B'] = selected_data['ID(s) interactor B'].apply(lambda x: x.split(':')[1])\n",
    "\n",
    "# Display the first few rows of the selected data and its shape (number of rows and columns)\n",
    "print(selected_data.head())\n",
    "print(selected_data.shape)"
   ]
  },
  {
   "cell_type": "code",
   "execution_count": null,
   "metadata": {},
   "outputs": [],
   "source": [
    "# Save the selected gene interaction data to a TSV file\n",
    "# The file is saved without including the index or column headers\n",
    "human_net_file = '../../data/pre_data/network/AGR_human.tsv'\n",
    "selected_data.to_csv(human_net_file, sep='\\t', index=False, header=False)"
   ]
  },
  {
   "cell_type": "markdown",
   "metadata": {},
   "source": [
    "#### BIOGRID"
   ]
  },
  {
   "cell_type": "code",
   "execution_count": null,
   "metadata": {},
   "outputs": [],
   "source": [
    "! head -n 5 ../../data/raw/network/BIOGRID/BIOGRID-ORGANISM-Homo_sapiens-4.4.235.tab3.txt\n",
    "! wc -l ../../data/raw/network/BIOGRID/BIOGRID-ORGANISM-Homo_sapiens-4.4.235.tab3.txt\n",
    "! head -n 5 ../../data/raw/network/BIOGRID/BIOGRID-ORGANISM-Mus_musculus-4.4.235.tab3.txt\n",
    "! wc -l ../../data/raw/network/BIOGRID/BIOGRID-ORGANISM-Mus_musculus-4.4.235.tab3.txt"
   ]
  },
  {
   "cell_type": "code",
   "execution_count": null,
   "metadata": {},
   "outputs": [],
   "source": [
    "import numpy as np\n",
    "import pandas as pd\n",
    "\n",
    "# Load the network data from the TSV file\n",
    "net_df = pd.read_csv('../../data/raw/network/BIOGRID/BIOGRID-ORGANISM-Mus_musculus-4.4.235.tab3.txt', sep='\\t', header=0, dtype=str)\n",
    "\n",
    "# Display the first 10 rows of the dataset\n",
    "print(net_df[:10])\n",
    "\n",
    "# Print the shape of the dataset (rows, columns)\n",
    "print(net_df.shape)\n",
    "\n",
    "# Get and display the column names\n",
    "cols = net_df.columns\n",
    "print(cols)\n"
   ]
  },
  {
   "cell_type": "code",
   "execution_count": null,
   "metadata": {},
   "outputs": [],
   "source": [
    "# Extracting the second and third columns\n",
    "data_df = net_df.iloc[:, [1, 2]]\n",
    "# Display the extracted data\n",
    "print(data_df.head(10))\n",
    "print(data_df.shape)\n"
   ]
  },
  {
   "cell_type": "code",
   "execution_count": null,
   "metadata": {},
   "outputs": [],
   "source": [
    "# Check if there are any missing values in data_df\n",
    "missing_values = data_df.isnull().sum().sum()  # Total number of missing values\n",
    "\n",
    "# Display total number of missing values\n",
    "print(f\"Total missing values: {missing_values}\")\n",
    "\n",
    "# Identify the rows with missing values\n",
    "rows_with_missing = data_df[data_df.isnull().any(axis=1)]\n",
    "print(f\"Rows with missing values:\\n{rows_with_missing}\")\n"
   ]
  },
  {
   "cell_type": "code",
   "execution_count": null,
   "metadata": {},
   "outputs": [],
   "source": [
    "# Save the gene interaction data as a TSV file\n",
    "# Exclude index and header in the saved file\n",
    "mouse_net_file = '../../data/pre_data/network/BIOGRID_mouse.tsv'\n",
    "data_df.to_csv(mouse_net_file, sep='\\t', index=False, header=False)\n"
   ]
  },
  {
   "cell_type": "code",
   "execution_count": null,
   "metadata": {},
   "outputs": [],
   "source": [
    "import numpy as np\n",
    "import pandas as pd\n",
    "\n",
    "# Load the human gene interaction data from the TSV file\n",
    "net_df = pd.read_csv('../../data/raw/network/BIOGRID/BIOGRID-ORGANISM-Homo_sapiens-4.4.235.tab3.txt', sep='\\t', header=0, dtype=str)\n",
    "\n",
    "# Display the first 10 rows of the dataset\n",
    "print(net_df[:10])\n",
    "\n",
    "# Print the shape of the dataset (number of rows and columns)\n",
    "print(net_df.shape)\n",
    "\n",
    "# Get and display the column names\n",
    "cols = net_df.columns\n",
    "print(cols)\n"
   ]
  },
  {
   "cell_type": "code",
   "execution_count": null,
   "metadata": {},
   "outputs": [],
   "source": [
    "# Extracting the second and third columns\n",
    "data_df = net_df.iloc[:, [1, 2]]\n",
    "# Display the extracted data\n",
    "print(data_df.head(10))\n",
    "print(data_df.shape)"
   ]
  },
  {
   "cell_type": "code",
   "execution_count": null,
   "metadata": {},
   "outputs": [],
   "source": [
    "# Check if there are any missing values in data_df\n",
    "missing_values = data_df.isnull().sum().sum()  # Total number of missing values\n",
    "\n",
    "# Display total number of missing values\n",
    "print(f\"Total missing values: {missing_values}\")\n",
    "\n",
    "# Identify the rows with missing values\n",
    "rows_with_missing = data_df[data_df.isnull().any(axis=1)]\n",
    "print(f\"Rows with missing values:\\n{rows_with_missing}\")\n"
   ]
  },
  {
   "cell_type": "code",
   "execution_count": null,
   "metadata": {},
   "outputs": [],
   "source": [
    "# Save the gene interaction data to a TSV file\n",
    "# Exclude index and header in the saved file\n",
    "human_net_file = '../../data/pre_data/network/BIOGRID_human.tsv'\n",
    "data_df.to_csv(human_net_file, sep='\\t', index=False, header=False)"
   ]
  }
 ],
 "metadata": {
  "kernelspec": {
   "display_name": "p38tor112",
   "language": "python",
   "name": "python3"
  },
  "language_info": {
   "codemirror_mode": {
    "name": "ipython",
    "version": 3
   },
   "file_extension": ".py",
   "mimetype": "text/x-python",
   "name": "python",
   "nbconvert_exporter": "python",
   "pygments_lexer": "ipython3",
   "version": "3.8.18"
  }
 },
 "nbformat": 4,
 "nbformat_minor": 2
}
